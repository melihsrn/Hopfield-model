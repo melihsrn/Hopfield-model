{
 "cells": [
  {
   "cell_type": "markdown",
   "metadata": {},
   "source": [
    "#### Import Library"
   ]
  },
  {
   "cell_type": "code",
   "execution_count": 1,
   "metadata": {},
   "outputs": [],
   "source": [
    "import numpy as np\n",
    "import matplotlib.pyplot as plt"
   ]
  },
  {
   "cell_type": "markdown",
   "metadata": {},
   "source": [
    "#### Pattern Compositions"
   ]
  },
  {
   "cell_type": "code",
   "execution_count": 348,
   "metadata": {},
   "outputs": [],
   "source": [
    "# Define patterns for letters A, C, K, T, W (10x10 arrays with 1 for dark pixels)\n",
    "pattern_A = np.array([\n",
    "    [1, 1, 1, 1, -1, -1, 1, 1, 1, 1],\n",
    "    [1, 1, 1, -1, 1, 1, -1, 1, 1, 1],\n",
    "    [1, 1, -1, 1, 1, 1, 1, -1, 1, 1],\n",
    "    [1, -1, 1, 1, 1, 1, 1, 1, -1, 1],\n",
    "    [-1, 1, 1, 1, 1, 1, 1, 1, 1, -1],\n",
    "    [-1, -1, -1, -1, -1, -1, -1, -1, -1, -1],\n",
    "    [-1, 1, 1, 1, 1, 1, 1, 1, 1, -1],\n",
    "    [-1, 1, 1, 1, 1, 1, 1, 1, 1, -1],\n",
    "    [-1, 1, 1, 1, 1, 1, 1, 1, 1, -1],\n",
    "    [-1, 1, 1, 1, 1, 1, 1, 1, 1, -1]\n",
    "])\n",
    "\n",
    "pattern_C = np.array([\n",
    "    [1, 1, 1, 1, 1, 1, 1, 1, 1, 1],\n",
    "    [1, -1, -1, -1, -1, -1, -1, -1, -1, 1],\n",
    "    [1, -1, 1, 1, 1, 1, 1, 1, 1, 1],\n",
    "    [1, -1, 1, 1, 1, 1, 1, 1, 1, 1],\n",
    "    [1, -1, 1, 1, 1, 1, 1, 1, 1, 1],\n",
    "    [1, -1, 1, 1, 1, 1, 1, 1, 1, 1],\n",
    "    [1, -1, 1, 1, 1, 1, 1, 1, 1, 1],\n",
    "    [1, -1, 1, 1, 1, 1, 1, 1, 1, 1],\n",
    "    [1,-1, -1, -1, -1, -1, -1, -1, -1, 1],\n",
    "    [1, 1, 1, 1, 1, 1, 1, 1, 1, 1]\n",
    "])\n",
    "\n",
    "pattern_K = np.array([\n",
    "    [-1, 1, 1, 1, 1, 1, 1, 1, 1, -1],\n",
    "    [-1, 1, 1, 1, 1, 1, 1, 1, -1, 1],\n",
    "    [-1, 1, 1, 1, 1, 1, 1, -1, 1, 1],\n",
    "    [-1, 1, 1, 1, 1, 1, -1, 1, 1, 1],\n",
    "    [-1, 1, 1, 1, -1, -1, 1, 1, 1, 1],\n",
    "    [-1, 1, 1, -1, 1, 1, 1, 1, 1, 1],\n",
    "    [-1, 1, -1, 1, 1, 1, 1, 1, 1, 1],\n",
    "    [-1, -1, 1, 1, 1, 1, 1, 1, 1, 1],\n",
    "    [-1, 1, -1, 1, 1, 1, 1, 1, 1, 1],\n",
    "    [-1, 1, 1, -1, -1, -1, -1, -1, -1, -1]\n",
    "])\n",
    "\n",
    "pattern_T = np.array([\n",
    "    [-1, -1, -1, -1, -1, -1, -1, -1, -1, -1],\n",
    "    [1, 1, 1, -1, 1, 1, 1, 1, 1, 1],\n",
    "    [1, 1, 1, -1, 1, 1, 1, 1, 1, 1],\n",
    "    [1, 1, 1, -1, 1, 1, 1, 1, 1, 1],\n",
    "    [1, 1, 1, -1, 1, 1, 1, 1, 1, 1],\n",
    "    [1, 1, 1, -1, 1, 1, 1, 1, 1, 1],\n",
    "    [1, 1, 1, -1, 1, 1, 1, 1, 1, 1],\n",
    "    [1, 1, 1, -1, 1, 1, 1, 1, 1, 1],\n",
    "    [1, 1, 1, -1, 1, 1, 1, 1, 1, 1],\n",
    "    [1, 1, 1, -1, 1, 1, 1, 1, 1, 1]\n",
    "])\n",
    "\n",
    "pattern_W = np.array([\n",
    "    [1, 1, 1, 1, 1, 1, 1, 1, 1, 1],\n",
    "    [1, 1, -1, 1, 1, 1, 1, 1, 1, -1],\n",
    "    [1, 1, -1, 1, 1, 1, 1, 1, 1, -1],\n",
    "    [1, 1, -1, 1, 1, 1, 1, 1, 1, -1],\n",
    "    [1, 1, -1, 1, 1, -1, -1, 1, 1, -1],\n",
    "    [1, 1, -1, 1, 1, -1, -1, 1, 1, -1],\n",
    "    [1, 1, -1, 1, 1, -1, -1, 1, 1, -1],\n",
    "    [1, 1, -1, 1, 1, -1, -1, 1, 1, -1],\n",
    "    [1, 1, -1, -1, -1, -1, -1, -1, -1, -1],\n",
    "    [1, 1, 1, 1, 1, 1, 1, 1, 1, 1]\n",
    "])\n"
   ]
  },
  {
   "cell_type": "code",
   "execution_count": 349,
   "metadata": {},
   "outputs": [
    {
     "data": {
      "text/plain": [
       "<matplotlib.image.AxesImage at 0x26a8ab5c5b0>"
      ]
     },
     "execution_count": 349,
     "metadata": {},
     "output_type": "execute_result"
    },
    {
     "data": {
      "image/png": "[encoded data removed]",
      "text/plain": [
       "<Figure size 432x288 with 1 Axes>"
      ]
     },
     "metadata": {
      "needs_background": "light"
     },
     "output_type": "display_data"
    }
   ],
   "source": [
    "# A\n",
    "plt.imshow(pattern_A)"
   ]
  },
  {
   "cell_type": "code",
   "execution_count": 350,
   "metadata": {},
   "outputs": [
    {
     "data": {
      "text/plain": [
       "<matplotlib.image.AxesImage at 0x26a7df13670>"
      ]
     },
     "execution_count": 350,
     "metadata": {},
     "output_type": "execute_result"
    },
    {
     "data": {
      "image/png": "[encoded data removed]",
      "text/plain": [
       "<Figure size 432x288 with 1 Axes>"
      ]
     },
     "metadata": {
      "needs_background": "light"
     },
     "output_type": "display_data"
    }
   ],
   "source": [
    "# C\n",
    "plt.imshow(pattern_C)"
   ]
  },
  {
   "cell_type": "code",
   "execution_count": 351,
   "metadata": {},
   "outputs": [
    {
     "data": {
      "text/plain": [
       "<matplotlib.image.AxesImage at 0x26a7e070430>"
      ]
     },
     "execution_count": 351,
     "metadata": {},
     "output_type": "execute_result"
    },
    {
     "data": {
      "image/png": "[encoded data removed]",
      "text/plain": [
       "<Figure size 432x288 with 1 Axes>"
      ]
     },
     "metadata": {
      "needs_background": "light"
     },
     "output_type": "display_data"
    }
   ],
   "source": [
    "# K\n",
    "plt.imshow(pattern_K)"
   ]
  },
  {
   "cell_type": "code",
   "execution_count": 352,
   "metadata": {},
   "outputs": [
    {
     "data": {
      "text/plain": [
       "<matplotlib.image.AxesImage at 0x26a7de52670>"
      ]
     },
     "execution_count": 352,
     "metadata": {},
     "output_type": "execute_result"
    },
    {
     "data": {
      "image/png": "[encoded data removed]",
      "text/plain": [
       "<Figure size 432x288 with 1 Axes>"
      ]
     },
     "metadata": {
      "needs_background": "light"
     },
     "output_type": "display_data"
    }
   ],
   "source": [
    "# T\n",
    "plt.imshow(pattern_T)"
   ]
  },
  {
   "cell_type": "code",
   "execution_count": 353,
   "metadata": {},
   "outputs": [
    {
     "data": {
      "text/plain": [
       "<matplotlib.image.AxesImage at 0x26a7f4cd9d0>"
      ]
     },
     "execution_count": 353,
     "metadata": {},
     "output_type": "execute_result"
    },
    {
     "data": {
      "image/png": "[encoded data removed]",
      "text/plain": [
       "<Figure size 432x288 with 1 Axes>"
      ]
     },
     "metadata": {
      "needs_background": "light"
     },
     "output_type": "display_data"
    }
   ],
   "source": [
    "# W\n",
    "plt.imshow(pattern_W)"
   ]
  },
  {
   "cell_type": "markdown",
   "metadata": {},
   "source": [
    "#### Model Functions"
   ]
  },
  {
   "cell_type": "code",
   "execution_count": 371,
   "metadata": {},
   "outputs": [],
   "source": [
    "# Hopfield weight matrix calculation function\n",
    "def hopfield(mu_s):\n",
    "    (M,J) = mu_s.shape # Define M and J\n",
    "\n",
    "    if M>=0.15*J: # Check if pattern number is valid\n",
    "        print(\"Pattern-neuron number condition error!\")\n",
    "        return\n",
    "    \n",
    "    W=np.matmul(mu_s.T,mu_s) # Calculate weight matrix by storing each pattern's information\n",
    "    np.fill_diagonal(W,0) # Fill the diagonals with zeros since there is no self-feedback\n",
    "    return W\n",
    "\n",
    "# Gaussian noise addition to patterns to use them as inputs to model\n",
    "def compose_x(pattern,mean,std):\n",
    "    J= pattern.shape[1]\n",
    "    noise= np.random.normal(mean,std,J) # Get a J dimensional noise vector with corresponding mean and standard deviation\n",
    "    x=pattern.reshape((J)) + noise # Add noise to the corresponding pattern\n",
    "    x[x>=0]=1 # Apply hard-nonlinearity\n",
    "    x[x<0]=-1\n",
    "    return x\n",
    "\n",
    "# A predict function to make the outputs more interpretable when visualizing \n",
    "def predict(W,inputs):\n",
    "    predictions=[]\n",
    "    J=inputs.shape[0]\n",
    "    for input in inputs.reshape((1,J)):\n",
    "        input = np.array(input).reshape((J,1))\n",
    "        prediction= iteration(W,input) # Iteration function takes weight matrix and input vector as inputs\n",
    "        predictions.append(prediction) # Returns the output and appends them to a list\n",
    "    predictions=np.array(predictions)\n",
    "    return predictions\n",
    "\n",
    "# Dynamic Equation Application Function\n",
    "def iteration(W,x):\n",
    "    J = W.shape[0]\n",
    "    x_prev=x.copy()\n",
    "    progress=[x_prev.reshape((1,J))]\n",
    "    converged=False\n",
    "    while not converged: # Continue till convergence\n",
    "        activation = np.dot(W,x_prev) # Calculate next state by weights and previous input state\n",
    "        activation[activation>=0]=1 # Apply hard-nonlinearity\n",
    "        activation[activation<0]=-1\n",
    "\n",
    "        if np.array_equal(activation,x_prev): # If there is no change in the output, say that it has converged\n",
    "                converged = True\n",
    "        x_prev = activation\n",
    "        progress.append(x_prev.reshape((1,J)))\n",
    "    progress=np.array(progress).reshape((-1,J))\n",
    "    return progress # Return each epoch to visualize them, too\n",
    "\n",
    "\n",
    "# Visualization Function\n",
    "def pattern_convergence(mu_s,pattern):\n",
    "    J=pattern.shape[1]\n",
    "    mu = 0\n",
    "    sigma = [0.5,0.8,1.1]\n",
    "    W= hopfield(mu_s) # Calculate weight matrix\n",
    "\n",
    "\n",
    "    for i in range(3):\n",
    "        input= compose_x(pattern,mu,sigma[i]) # Compose input\n",
    "        outputs=predict(W,input) # Run the model on input\n",
    "        num_epoch= outputs.shape[1]-1 # Assign number of epochs according to the outputs\n",
    "        fig, axs = plt.subplots(1, num_epoch) # Plot them one-by-one\n",
    "        for j in range(num_epoch):\n",
    "            axs[j].imshow(outputs[0,j].reshape((10,10)))\n",
    "            epoch_index=j+1\n",
    "            axs[j].set_title(f\"Std={sigma[i]}, Epoch={epoch_index}\")\n",
    "            axs[j].axis('off')"
   ]
  },
  {
   "cell_type": "markdown",
   "metadata": {},
   "source": [
    "#### Pattern Matrix Assignment"
   ]
  },
  {
   "cell_type": "code",
   "execution_count": 372,
   "metadata": {},
   "outputs": [],
   "source": [
    "J=100\n",
    "M=5\n",
    "mu_A=np.array(pattern_A).reshape((1,J))\n",
    "mu_C=np.array(pattern_C).reshape((1,J))\n",
    "mu_K=np.array(pattern_K).reshape((1,J))\n",
    "mu_T=np.array(pattern_T).reshape((1,J))\n",
    "mu_W=np.array(pattern_W).reshape((1,J))\n",
    "mu_s= np.concatenate([mu_A,mu_W,mu_C,mu_T,mu_K])"
   ]
  },
  {
   "cell_type": "markdown",
   "metadata": {},
   "source": [
    "#### Convergence of A"
   ]
  },
  {
   "cell_type": "markdown",
   "metadata": {},
   "source": [
    "If you get an error like \" 'Axes' object is not subscriptable \", please just run the cell again and it will work. It happens because sometimes added noise does not change the pattern, hence it doesnt iterate."
   ]
  },
  {
   "cell_type": "code",
   "execution_count": 376,
   "metadata": {},
   "outputs": [
    {
     "data": {
      "image/png": "[encoded data removed]",
      "text/plain": [
       "<Figure size 432x288 with 2 Axes>"
      ]
     },
     "metadata": {
      "needs_background": "light"
     },
     "output_type": "display_data"
    },
    {
     "data": {
      "image/png": "[encoded data removed]",
      "text/plain": [
       "<Figure size 432x288 with 2 Axes>"
      ]
     },
     "metadata": {
      "needs_background": "light"
     },
     "output_type": "display_data"
    },
    {
     "data": {
      "image/png": "[encoded data removed]",
      "text/plain": [
       "<Figure size 432x288 with 2 Axes>"
      ]
     },
     "metadata": {
      "needs_background": "light"
     },
     "output_type": "display_data"
    }
   ],
   "source": [
    "pattern_convergence(mu_s,mu_A)"
   ]
  },
  {
   "cell_type": "markdown",
   "metadata": {},
   "source": [
    "#### Convergence of W"
   ]
  },
  {
   "cell_type": "markdown",
   "metadata": {},
   "source": [
    "If you get an error like \" 'Axes' object is not subscriptable \", please just run the cell again and it will work. It happens because sometimes added noise does not change the pattern, hence it doesnt iterate."
   ]
  },
  {
   "cell_type": "code",
   "execution_count": 365,
   "metadata": {},
   "outputs": [
    {
     "data": {
      "image/png": "[encoded data removed]",
      "text/plain": [
       "<Figure size 432x288 with 2 Axes>"
      ]
     },
     "metadata": {
      "needs_background": "light"
     },
     "output_type": "display_data"
    },
    {
     "data": {
      "image/png": "[encoded data removed]",
      "text/plain": [
       "<Figure size 432x288 with 2 Axes>"
      ]
     },
     "metadata": {
      "needs_background": "light"
     },
     "output_type": "display_data"
    },
    {
     "data": {
      "image/png": "[encoded data removed]",
      "text/plain": [
       "<Figure size 432x288 with 2 Axes>"
      ]
     },
     "metadata": {
      "needs_background": "light"
     },
     "output_type": "display_data"
    }
   ],
   "source": [
    "pattern_convergence(mu_s,mu_W)"
   ]
  },
  {
   "cell_type": "markdown",
   "metadata": {},
   "source": [
    "#### Convergence of C"
   ]
  },
  {
   "cell_type": "markdown",
   "metadata": {},
   "source": [
    "If you get an error like \" 'Axes' object is not subscriptable \", please just run the cell again and it will work. It happens because sometimes added noise does not change the pattern, hence it doesnt iterate."
   ]
  },
  {
   "cell_type": "code",
   "execution_count": 364,
   "metadata": {},
   "outputs": [
    {
     "data": {
      "image/png": "[encoded data removed]",
      "text/plain": [
       "<Figure size 432x288 with 2 Axes>"
      ]
     },
     "metadata": {
      "needs_background": "light"
     },
     "output_type": "display_data"
    },
    {
     "data": {
      "image/png": "[encoded data removed]",
      "text/plain": [
       "<Figure size 432x288 with 2 Axes>"
      ]
     },
     "metadata": {
      "needs_background": "light"
     },
     "output_type": "display_data"
    },
    {
     "data": {
      "image/png": "[encoded data removed]",
      "text/plain": [
       "<Figure size 432x288 with 2 Axes>"
      ]
     },
     "metadata": {
      "needs_background": "light"
     },
     "output_type": "display_data"
    }
   ],
   "source": [
    "pattern_convergence(mu_s,mu_C)"
   ]
  },
  {
   "cell_type": "markdown",
   "metadata": {},
   "source": [
    "#### Convergence of T"
   ]
  },
  {
   "cell_type": "markdown",
   "metadata": {},
   "source": [
    "If you get an error like \" 'Axes' object is not subscriptable \", please just run the cell again and it will work. It happens because sometimes added noise does not change the pattern, hence it doesnt iterate."
   ]
  },
  {
   "cell_type": "code",
   "execution_count": 363,
   "metadata": {},
   "outputs": [
    {
     "data": {
      "image/png": "[encoded data removed]",
      "text/plain": [
       "<Figure size 432x288 with 2 Axes>"
      ]
     },
     "metadata": {
      "needs_background": "light"
     },
     "output_type": "display_data"
    },
    {
     "data": {
      "image/png": "[encoded data removed]",
      "text/plain": [
       "<Figure size 432x288 with 2 Axes>"
      ]
     },
     "metadata": {
      "needs_background": "light"
     },
     "output_type": "display_data"
    },
    {
     "data": {
      "image/png": "[encoded data removed]",
      "text/plain": [
       "<Figure size 432x288 with 2 Axes>"
      ]
     },
     "metadata": {
      "needs_background": "light"
     },
     "output_type": "display_data"
    }
   ],
   "source": [
    "pattern_convergence(mu_s,mu_T)"
   ]
  },
  {
   "cell_type": "markdown",
   "metadata": {},
   "source": [
    "#### Convergence of K"
   ]
  },
  {
   "cell_type": "markdown",
   "metadata": {},
   "source": [
    "If you get an error like \" 'Axes' object is not subscriptable \", please just run the cell again and it will work. It happens because sometimes added noise does not change the pattern, hence it doesnt iterate."
   ]
  },
  {
   "cell_type": "code",
   "execution_count": 361,
   "metadata": {},
   "outputs": [
    {
     "data": {
      "image/png": "[encoded data removed]",
      "text/plain": [
       "<Figure size 432x288 with 2 Axes>"
      ]
     },
     "metadata": {
      "needs_background": "light"
     },
     "output_type": "display_data"
    },
    {
     "data": {
      "image/png": "[encoded data removed]",
      "text/plain": [
       "<Figure size 432x288 with 2 Axes>"
      ]
     },
     "metadata": {
      "needs_background": "light"
     },
     "output_type": "display_data"
    },
    {
     "data": {
      "image/png": "[encoded data removed]",
      "text/plain": [
       "<Figure size 432x288 with 2 Axes>"
      ]
     },
     "metadata": {
      "needs_background": "light"
     },
     "output_type": "display_data"
    }
   ],
   "source": [
    "pattern_convergence(mu_s,mu_K)"
   ]
  }
 ],
 "metadata": {
  "kernelspec": {
   "display_name": "Python 3",
   "language": "python",
   "name": "python3"
  },
  "language_info": {
   "codemirror_mode": {
    "name": "ipython",
    "version": 3
   },
   "file_extension": ".py",
   "mimetype": "text/x-python",
   "name": "python",
   "nbconvert_exporter": "python",
   "pygments_lexer": "ipython3",
   "version": "3.9.13"
  }
 },
 "nbformat": 4,
 "nbformat_minor": 2
}
